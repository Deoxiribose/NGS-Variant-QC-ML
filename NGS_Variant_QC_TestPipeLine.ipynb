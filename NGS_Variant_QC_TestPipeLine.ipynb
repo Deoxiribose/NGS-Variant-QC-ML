{
  "cells": [
    {
      "cell_type": "markdown",
      "id": "e4559ad4",
      "metadata": {},
      "source": [
        "# NGS Variant Calling & Deep Learning QC — Complete v2\n",
        "\n",
        "Author: Jacob Bradley  \n",
        "Created: 2025-08-01\n",
        "\n",
        "Two paths:\n",
        "\n",
        "1. **QuickStart**: synthetic VCF -> ML pipeline (no downloads).\n",
        "2. **Real pipeline (chrM)**: hg38 mitochondrial genome -> BWA -> Samtools-> bcftools -> VCF.\n"
      ]
    },
    {
      "cell_type": "markdown",
      "id": "5e097639",
      "metadata": {},
      "source": [
        "## 0) Environment Setup\n",
        "```bash\n",
        "pip install -r requirements.txt\n",
        "sudo apt-get update && sudo apt-get install -y bwa samtools bcftools tabix aria2 wgsim\n",
        "```\n"
      ]
    },
    {
      "cell_type": "markdown",
      "id": "1af665d7",
      "metadata": {},
      "source": [
        "## 1) QuickStart Synthetic VCF"
      ]
    },
    {
      "cell_type": "code",
      "execution_count": null,
      "id": "eea77f79",
      "metadata": {},
      "outputs": [
        {
          "ename": "",
          "evalue": "",
          "output_type": "error",
          "traceback": [
            "\u001b[1;31mRunning cells with 'Python 3.11.9' requires the ipykernel package.\n",
            "\u001b[1;31m<a href='command:jupyter.createPythonEnvAndSelectController'>Create a Python Environment</a> with the required packages.\n",
            "\u001b[1;31mOr install 'ipykernel' using the command: 'c:/Users/Jacob/AppData/Local/Microsoft/WindowsApps/python3.11.exe -m pip install ipykernel -U --user --force-reinstall'"
          ]
        }
      ],
      "source": [
        "from pathlib import Path\n",
        "vcf_text = \"\"\"##fileformat=VCFv4.2\n",
        "#CHROM\tPOS\tID\tREF\tALT\tQUAL\tFILTER\tINFO\n",
        "chrM\t100\t.\tA\tG\t50\tPASS\tDP=35;MQ=60\n",
        "chrM\t200\t.\tC\tT\t12\tq10\tDP=8;MQ=45\n",
        "\"\"\"\n",
        "Path(\"data\").mkdir(exist_ok=True)\n",
        "(Path(\"data\")/\"synthetic.vcf\").write_text(vcf_text)\n",
        "print(\"Wrote data/synthetic.vcf\")\n"
      ]
    },
    {
      "cell_type": "markdown",
      "id": "91022a31",
      "metadata": {},
      "source": [
        "### Parse to features + label"
      ]
    },
    {
      "cell_type": "code",
      "execution_count": null,
      "id": "14af20f8",
      "metadata": {},
      "outputs": [],
      "source": [
        "import pandas as pd\n",
        "rows=[]\n",
        "for line in open(\"data/synthetic.vcf\"):\n",
        "    if line.startswith(\"#\"): continue\n",
        "    chrom,pos,vid,ref,alt,qual,flt,info=line.strip().split(\"\\t\")\n",
        "    info_dict=dict(kv.split(\"=\") for kv in info.split(\";\") if \"=\" in kv)\n",
        "    rows.append({\n",
        "        \"chrom\":chrom,\"pos\":int(pos),\"ref\":ref,\"alt\":alt,\n",
        "        \"qual\":float(qual),\"filter\":flt,\n",
        "        \"dp\":float(info_dict.get(\"DP\", \"nan\")),\n",
        "        \"mq\":float(info_dict.get(\"MQ\", \"nan\"))})\n",
        "df=pd.DataFrame(rows)\n",
        "df['label']=((df['filter']==\"PASS\") & (df['qual']>=30)).astype(int)\n",
        "df.to_csv(\"features_labeled_quickstart.csv\",index=False)\n",
        "df\n"
      ]
    },
    {
      "cell_type": "markdown",
      "id": "77062636",
      "metadata": {},
      "source": [
        "## 2) Random Forest on QuickStart"
      ]
    },
    {
      "cell_type": "code",
      "execution_count": null,
      "id": "47796998",
      "metadata": {},
      "outputs": [],
      "source": [
        "from sklearn.model_selection import train_test_split\n",
        "from sklearn.ensemble import RandomForestClassifier\n",
        "from sklearn.metrics import roc_auc_score\n",
        "import matplotlib.pyplot as plt\n",
        "X=df[['qual','dp','mq']].fillna(0)\n",
        "y=df['label']\n",
        "X_train,X_test,y_train,y_test=train_test_split(X,y,test_size=0.5,random_state=42)\n",
        "clf=RandomForestClassifier(n_estimators=100).fit(X_train,y_train)\n",
        "proba=clf.predict_proba(X_test)[:,1]\n",
        "print(\"AUC:\",roc_auc_score(y_test,proba))\n"
      ]
    },
    {
      "cell_type": "markdown",
      "id": "9b0fcb27",
      "metadata": {},
      "source": [
        "## 3) Keras MLP on QuickStart"
      ]
    },
    {
      "cell_type": "code",
      "execution_count": null,
      "id": "98945365",
      "metadata": {},
      "outputs": [],
      "source": [
        "import tensorflow as tf\n",
        "Xv=X.values.astype('float32'); yv=y.values.astype('float32')\n",
        "model=tf.keras.Sequential([\n",
        "    tf.keras.layers.Input(shape=(Xv.shape[1],)),\n",
        "    tf.keras.layers.Dense(32,activation='relu'),\n",
        "    tf.keras.layers.Dense(1,activation='sigmoid')\n",
        "])\n",
        "model.compile(optimizer='adam',loss='binary_crossentropy',metrics=['AUC'])\n",
        "model.fit(Xv,yv,epochs=5,verbose=0)\n",
        "print(\"Done training MLP\")\n"
      ]
    },
    {
      "cell_type": "markdown",
      "id": "66c4cf43",
      "metadata": {},
      "source": [
        "## 4) Real chrM Pipeline (commands)\n",
        "```bash\n",
        "mkdir -p data && cd data\n",
        "aria2c -x 8 -s 8 -o chrM.fa.gz https://hgdownload.soe.ucsc.edu/goldenpath/hg38/chromosomes/chrM.fa.gz\n",
        "gunzip -f chrM.fa.gz\n",
        "samtools faidx chrM.fa\n",
        "bwa index chrM.fa\n",
        "wgsim -N 5000 -1 100 -2 100 chrM.fa sample_R1.fastq sample_R2.fastq\n",
        "gzip -f sample_R1.fastq sample_R2.fastq\n",
        "bwa mem -t 4 chrM.fa sample_R1.fastq.gz sample_R2.fastq.gz | samtools sort -o sample.chrM.sorted.bam\n",
        "samtools index sample.chrM.sorted.bam\n",
        "bcftools mpileup -f chrM.fa sample.chrM.sorted.bam -Ou | bcftools call -mv -Oz -o sample.chrM.vcf.gz\n",
        "tabix -p vcf sample.chrM.vcf.gz\n",
        "```\n"
      ]
    }
  ],
  "metadata": {
    "kernelspec": {
      "display_name": "Python 3",
      "language": "python",
      "name": "python3"
    },
    "language_info": {
      "name": "python",
      "version": "3.11.9"
    }
  },
  "nbformat": 4,
  "nbformat_minor": 5
}
